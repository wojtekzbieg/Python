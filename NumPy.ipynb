{
 "cells": [
  {
   "metadata": {
    "collapsed": true,
    "ExecuteTime": {
     "end_time": "2025-07-24T11:20:11.053300Z",
     "start_time": "2025-07-24T11:20:10.983948Z"
    }
   },
   "cell_type": "code",
   "source": [
    "import numpy as np\n",
    "a1 = np.array([1,2,3])\n",
    "print(a1)"
   ],
   "id": "initial_id",
   "outputs": [
    {
     "name": "stdout",
     "output_type": "stream",
     "text": [
      "[1 2 3]\n"
     ]
    }
   ],
   "execution_count": 2
  },
  {
   "metadata": {
    "ExecuteTime": {
     "end_time": "2025-07-24T11:20:11.208429Z",
     "start_time": "2025-07-24T11:20:11.204827Z"
    }
   },
   "cell_type": "code",
   "source": [
    "a1[0] = 8\n",
    "print(a1)"
   ],
   "id": "1ecd73beb93cac4d",
   "outputs": [
    {
     "name": "stdout",
     "output_type": "stream",
     "text": [
      "[8 2 3]\n"
     ]
    }
   ],
   "execution_count": 3
  },
  {
   "metadata": {
    "ExecuteTime": {
     "end_time": "2025-07-24T11:20:21.107366Z",
     "start_time": "2025-07-24T11:20:21.103385Z"
    }
   },
   "cell_type": "code",
   "source": [
    "a2 = np.array([1,2,\"abc\", 3.1415])\n",
    "print(a2)\n",
    "print(a2[[1,2]])"
   ],
   "id": "9d041310c43cf6e6",
   "outputs": [
    {
     "name": "stdout",
     "output_type": "stream",
     "text": [
      "['1' '2' 'abc' '3.1415']\n",
      "['2' 'abc']\n"
     ]
    }
   ],
   "execution_count": 5
  },
  {
   "metadata": {},
   "cell_type": "code",
   "source": [
    "a3 = np.array([[1,2,3], [4,5,6], [7, 8, 9]])\n",
    "print(a3)\n",
    "print(a3[0,0])\n",
    "print(a3[2])\n",
    "print(a3[:][1])\n",
    "print(a3[:, 1])\n",
    "\n",
    "# lista=[[1,2,3], [4,5,6], [7, 8, 9]]\n",
    "# print(lista[:, 1])                       <----- nie działa\n",
    "\n",
    "print(a3[1:, 2])"
   ],
   "id": "ea50f8dfd57ed414",
   "outputs": [],
   "execution_count": null
  },
  {
   "metadata": {
    "ExecuteTime": {
     "end_time": "2025-07-24T11:20:11.459091300Z",
     "start_time": "2025-07-23T18:37:56.075778Z"
    }
   },
   "cell_type": "code",
   "source": [
    "one = np.ones((4,2,2,2), dtype='int32')\n",
    "print(one)"
   ],
   "id": "de0a71a6ee8e5aee",
   "outputs": [
    {
     "name": "stdout",
     "output_type": "stream",
     "text": [
      "[[[[1 1]\n",
      "   [1 1]]\n",
      "\n",
      "  [[1 1]\n",
      "   [1 1]]]\n",
      "\n",
      "\n",
      " [[[1 1]\n",
      "   [1 1]]\n",
      "\n",
      "  [[1 1]\n",
      "   [1 1]]]\n",
      "\n",
      "\n",
      " [[[1 1]\n",
      "   [1 1]]\n",
      "\n",
      "  [[1 1]\n",
      "   [1 1]]]\n",
      "\n",
      "\n",
      " [[[1 1]\n",
      "   [1 1]]\n",
      "\n",
      "  [[1 1]\n",
      "   [1 1]]]]\n"
     ]
    }
   ],
   "execution_count": 52
  }
 ],
 "metadata": {
  "kernelspec": {
   "display_name": "Python 3",
   "language": "python",
   "name": "python3"
  },
  "language_info": {
   "codemirror_mode": {
    "name": "ipython",
    "version": 2
   },
   "file_extension": ".py",
   "mimetype": "text/x-python",
   "name": "python",
   "nbconvert_exporter": "python",
   "pygments_lexer": "ipython2",
   "version": "2.7.6"
  }
 },
 "nbformat": 4,
 "nbformat_minor": 5
}
